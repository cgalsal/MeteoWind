{
 "cells": [
  {
   "cell_type": "markdown",
   "metadata": {},
   "source": []
  },
  {
   "cell_type": "markdown",
   "metadata": {},
   "source": [
    "Introduction à la visualisation de données avec Bokeh\n",
    "\n",
    "Créer des cartes géographiques\n",
    "\n",
    "    Dans cet exercice nous allons voir comment visualiser des données géographiques avec Bokeh. Pour cela nous utiliserons principalement la tuile 'CARTODBPOSITRON' provenant du sous-module bokeh.tile_providers même si d'autres manières de faire existent.\n",
    "\n",
    "    Exécuter cette cellule pour mettre en place l'environnement de travail.\n"
   ]
  },
  {
   "cell_type": "code",
   "execution_count": 1,
   "metadata": {},
   "outputs": [
    {
     "data": {
      "text/html": [
       "\n",
       "    <div class=\"bk-root\">\n",
       "        <a href=\"https://bokeh.org\" target=\"_blank\" class=\"bk-logo bk-logo-small bk-logo-notebook\"></a>\n",
       "        <span id=\"1002\">Loading BokehJS ...</span>\n",
       "    </div>"
      ]
     },
     "metadata": {},
     "output_type": "display_data"
    },
    {
     "data": {
      "application/javascript": "\n(function(root) {\n  function now() {\n    return new Date();\n  }\n\n  var force = true;\n\n  if (typeof root._bokeh_onload_callbacks === \"undefined\" || force === true) {\n    root._bokeh_onload_callbacks = [];\n    root._bokeh_is_loading = undefined;\n  }\n\n  var JS_MIME_TYPE = 'application/javascript';\n  var HTML_MIME_TYPE = 'text/html';\n  var EXEC_MIME_TYPE = 'application/vnd.bokehjs_exec.v0+json';\n  var CLASS_NAME = 'output_bokeh rendered_html';\n\n  /**\n   * Render data to the DOM node\n   */\n  function render(props, node) {\n    var script = document.createElement(\"script\");\n    node.appendChild(script);\n  }\n\n  /**\n   * Handle when an output is cleared or removed\n   */\n  function handleClearOutput(event, handle) {\n    var cell = handle.cell;\n\n    var id = cell.output_area._bokeh_element_id;\n    var server_id = cell.output_area._bokeh_server_id;\n    // Clean up Bokeh references\n    if (id != null && id in Bokeh.index) {\n      Bokeh.index[id].model.document.clear();\n      delete Bokeh.index[id];\n    }\n\n    if (server_id !== undefined) {\n      // Clean up Bokeh references\n      var cmd = \"from bokeh.io.state import curstate; print(curstate().uuid_to_server['\" + server_id + \"'].get_sessions()[0].document.roots[0]._id)\";\n      cell.notebook.kernel.execute(cmd, {\n        iopub: {\n          output: function(msg) {\n            var id = msg.content.text.trim();\n            if (id in Bokeh.index) {\n              Bokeh.index[id].model.document.clear();\n              delete Bokeh.index[id];\n            }\n          }\n        }\n      });\n      // Destroy server and session\n      var cmd = \"import bokeh.io.notebook as ion; ion.destroy_server('\" + server_id + \"')\";\n      cell.notebook.kernel.execute(cmd);\n    }\n  }\n\n  /**\n   * Handle when a new output is added\n   */\n  function handleAddOutput(event, handle) {\n    var output_area = handle.output_area;\n    var output = handle.output;\n\n    // limit handleAddOutput to display_data with EXEC_MIME_TYPE content only\n    if ((output.output_type != \"display_data\") || (!Object.prototype.hasOwnProperty.call(output.data, EXEC_MIME_TYPE))) {\n      return\n    }\n\n    var toinsert = output_area.element.find(\".\" + CLASS_NAME.split(' ')[0]);\n\n    if (output.metadata[EXEC_MIME_TYPE][\"id\"] !== undefined) {\n      toinsert[toinsert.length - 1].firstChild.textContent = output.data[JS_MIME_TYPE];\n      // store reference to embed id on output_area\n      output_area._bokeh_element_id = output.metadata[EXEC_MIME_TYPE][\"id\"];\n    }\n    if (output.metadata[EXEC_MIME_TYPE][\"server_id\"] !== undefined) {\n      var bk_div = document.createElement(\"div\");\n      bk_div.innerHTML = output.data[HTML_MIME_TYPE];\n      var script_attrs = bk_div.children[0].attributes;\n      for (var i = 0; i < script_attrs.length; i++) {\n        toinsert[toinsert.length - 1].firstChild.setAttribute(script_attrs[i].name, script_attrs[i].value);\n        toinsert[toinsert.length - 1].firstChild.textContent = bk_div.children[0].textContent\n      }\n      // store reference to server id on output_area\n      output_area._bokeh_server_id = output.metadata[EXEC_MIME_TYPE][\"server_id\"];\n    }\n  }\n\n  function register_renderer(events, OutputArea) {\n\n    function append_mime(data, metadata, element) {\n      // create a DOM node to render to\n      var toinsert = this.create_output_subarea(\n        metadata,\n        CLASS_NAME,\n        EXEC_MIME_TYPE\n      );\n      this.keyboard_manager.register_events(toinsert);\n      // Render to node\n      var props = {data: data, metadata: metadata[EXEC_MIME_TYPE]};\n      render(props, toinsert[toinsert.length - 1]);\n      element.append(toinsert);\n      return toinsert\n    }\n\n    /* Handle when an output is cleared or removed */\n    events.on('clear_output.CodeCell', handleClearOutput);\n    events.on('delete.Cell', handleClearOutput);\n\n    /* Handle when a new output is added */\n    events.on('output_added.OutputArea', handleAddOutput);\n\n    /**\n     * Register the mime type and append_mime function with output_area\n     */\n    OutputArea.prototype.register_mime_type(EXEC_MIME_TYPE, append_mime, {\n      /* Is output safe? */\n      safe: true,\n      /* Index of renderer in `output_area.display_order` */\n      index: 0\n    });\n  }\n\n  // register the mime type if in Jupyter Notebook environment and previously unregistered\n  if (root.Jupyter !== undefined) {\n    var events = require('base/js/events');\n    var OutputArea = require('notebook/js/outputarea').OutputArea;\n\n    if (OutputArea.prototype.mime_types().indexOf(EXEC_MIME_TYPE) == -1) {\n      register_renderer(events, OutputArea);\n    }\n  }\n\n  \n  if (typeof (root._bokeh_timeout) === \"undefined\" || force === true) {\n    root._bokeh_timeout = Date.now() + 5000;\n    root._bokeh_failed_load = false;\n  }\n\n  var NB_LOAD_WARNING = {'data': {'text/html':\n     \"<div style='background-color: #fdd'>\\n\"+\n     \"<p>\\n\"+\n     \"BokehJS does not appear to have successfully loaded. If loading BokehJS from CDN, this \\n\"+\n     \"may be due to a slow or bad network connection. Possible fixes:\\n\"+\n     \"</p>\\n\"+\n     \"<ul>\\n\"+\n     \"<li>re-rerun `output_notebook()` to attempt to load from CDN again, or</li>\\n\"+\n     \"<li>use INLINE resources instead, as so:</li>\\n\"+\n     \"</ul>\\n\"+\n     \"<code>\\n\"+\n     \"from bokeh.resources import INLINE\\n\"+\n     \"output_notebook(resources=INLINE)\\n\"+\n     \"</code>\\n\"+\n     \"</div>\"}};\n\n  function display_loaded() {\n    var el = document.getElementById(\"1002\");\n    if (el != null) {\n      el.textContent = \"BokehJS is loading...\";\n    }\n    if (root.Bokeh !== undefined) {\n      if (el != null) {\n        el.textContent = \"BokehJS \" + root.Bokeh.version + \" successfully loaded.\";\n      }\n    } else if (Date.now() < root._bokeh_timeout) {\n      setTimeout(display_loaded, 100)\n    }\n  }\n\n\n  function run_callbacks() {\n    try {\n      root._bokeh_onload_callbacks.forEach(function(callback) {\n        if (callback != null)\n          callback();\n      });\n    } finally {\n      delete root._bokeh_onload_callbacks\n    }\n    console.debug(\"Bokeh: all callbacks have finished\");\n  }\n\n  function load_libs(css_urls, js_urls, callback) {\n    if (css_urls == null) css_urls = [];\n    if (js_urls == null) js_urls = [];\n\n    root._bokeh_onload_callbacks.push(callback);\n    if (root._bokeh_is_loading > 0) {\n      console.debug(\"Bokeh: BokehJS is being loaded, scheduling callback at\", now());\n      return null;\n    }\n    if (js_urls == null || js_urls.length === 0) {\n      run_callbacks();\n      return null;\n    }\n    console.debug(\"Bokeh: BokehJS not loaded, scheduling load and callback at\", now());\n    root._bokeh_is_loading = css_urls.length + js_urls.length;\n\n    function on_load() {\n      root._bokeh_is_loading--;\n      if (root._bokeh_is_loading === 0) {\n        console.debug(\"Bokeh: all BokehJS libraries/stylesheets loaded\");\n        run_callbacks()\n      }\n    }\n\n    function on_error(url) {\n      console.error(\"failed to load \" + url);\n    }\n\n    for (let i = 0; i < css_urls.length; i++) {\n      const url = css_urls[i];\n      const element = document.createElement(\"link\");\n      element.onload = on_load;\n      element.onerror = on_error.bind(null, url);\n      element.rel = \"stylesheet\";\n      element.type = \"text/css\";\n      element.href = url;\n      console.debug(\"Bokeh: injecting link tag for BokehJS stylesheet: \", url);\n      document.body.appendChild(element);\n    }\n\n    const hashes = {\"https://cdn.bokeh.org/bokeh/release/bokeh-2.3.2.min.js\": \"XypntL49z55iwGVUW4qsEu83zKL3XEcz0MjuGOQ9SlaaQ68X/g+k1FcioZi7oQAc\", \"https://cdn.bokeh.org/bokeh/release/bokeh-tables-2.3.2.min.js\": \"bEsM86IHGDTLCS0Zod8a8WM6Y4+lafAL/eSiyQcuPzinmWNgNO2/olUF0Z2Dkn5i\", \"https://cdn.bokeh.org/bokeh/release/bokeh-widgets-2.3.2.min.js\": \"TX0gSQTdXTTeScqxj6PVQxTiRW8DOoGVwinyi1D3kxv7wuxQ02XkOxv0xwiypcAH\"};\n\n    for (let i = 0; i < js_urls.length; i++) {\n      const url = js_urls[i];\n      const element = document.createElement('script');\n      element.onload = on_load;\n      element.onerror = on_error.bind(null, url);\n      element.async = false;\n      element.src = url;\n      if (url in hashes) {\n        element.crossOrigin = \"anonymous\";\n        element.integrity = \"sha384-\" + hashes[url];\n      }\n      console.debug(\"Bokeh: injecting script tag for BokehJS library: \", url);\n      document.head.appendChild(element);\n    }\n  };\n\n  function inject_raw_css(css) {\n    const element = document.createElement(\"style\");\n    element.appendChild(document.createTextNode(css));\n    document.body.appendChild(element);\n  }\n\n  \n  var js_urls = [\"https://cdn.bokeh.org/bokeh/release/bokeh-2.3.2.min.js\", \"https://cdn.bokeh.org/bokeh/release/bokeh-widgets-2.3.2.min.js\", \"https://cdn.bokeh.org/bokeh/release/bokeh-tables-2.3.2.min.js\"];\n  var css_urls = [];\n  \n\n  var inline_js = [\n    function(Bokeh) {\n      Bokeh.set_log_level(\"info\");\n    },\n    function(Bokeh) {\n    \n    \n    }\n  ];\n\n  function run_inline_js() {\n    \n    if (root.Bokeh !== undefined || force === true) {\n      \n    for (var i = 0; i < inline_js.length; i++) {\n      inline_js[i].call(root, root.Bokeh);\n    }\n    if (force === true) {\n        display_loaded();\n      }} else if (Date.now() < root._bokeh_timeout) {\n      setTimeout(run_inline_js, 100);\n    } else if (!root._bokeh_failed_load) {\n      console.log(\"Bokeh: BokehJS failed to load within specified timeout.\");\n      root._bokeh_failed_load = true;\n    } else if (force !== true) {\n      var cell = $(document.getElementById(\"1002\")).parents('.cell').data().cell;\n      cell.output_area.append_execute_result(NB_LOAD_WARNING)\n    }\n\n  }\n\n  if (root._bokeh_is_loading === 0) {\n    console.debug(\"Bokeh: BokehJS loaded, going straight to plotting\");\n    run_inline_js();\n  } else {\n    load_libs(css_urls, js_urls, function() {\n      console.debug(\"Bokeh: BokehJS plotting callback run at\", now());\n      run_inline_js();\n    });\n  }\n}(window));",
      "application/vnd.bokehjs_load.v0+json": ""
     },
     "metadata": {},
     "output_type": "display_data"
    }
   ],
   "source": [
    "# Importation des modules standards\n",
    "import pandas as pd\n",
    "import numpy as np \n",
    "\n",
    "# Importation des fonctions dont l'on se servira pour toutes les figures\n",
    "from bokeh.plotting import figure, output_notebook, show\n",
    "\n",
    "# Précision de l'affichage des graphiques dans des cellules jupyter\n",
    "output_notebook()"
   ]
  },
  {
   "cell_type": "markdown",
   "metadata": {},
   "source": [
    "\n",
    "\n",
    "    Nous allons maintenant charger un jeu de données qui contient l'emplacement de nombreuses villes du monde. Elles sont référencées par leurs latitudes et leurs longitudes.\n",
    "\n",
    "    Charger dans un DataFrame nommé df la base de données locations.csv à l'aide de la fonction read_csv du package pandas.\n",
    "\n",
    "    Afficher les 5 premières lignes du jeu de données.\n",
    "\n"
   ]
  },
  {
   "cell_type": "code",
   "execution_count": 3,
   "metadata": {},
   "outputs": [
    {
     "data": {
      "text/html": [
       "<div>\n",
       "<style scoped>\n",
       "    .dataframe tbody tr th:only-of-type {\n",
       "        vertical-align: middle;\n",
       "    }\n",
       "\n",
       "    .dataframe tbody tr th {\n",
       "        vertical-align: top;\n",
       "    }\n",
       "\n",
       "    .dataframe thead th {\n",
       "        text-align: right;\n",
       "    }\n",
       "</style>\n",
       "<table border=\"1\" class=\"dataframe\">\n",
       "  <thead>\n",
       "    <tr style=\"text-align: right;\">\n",
       "      <th></th>\n",
       "      <th>location_name</th>\n",
       "      <th>lat</th>\n",
       "      <th>lng</th>\n",
       "    </tr>\n",
       "  </thead>\n",
       "  <tbody>\n",
       "    <tr>\n",
       "      <th>0</th>\n",
       "      <td>malomo, Malawi</td>\n",
       "      <td>-1480000.0</td>\n",
       "      <td>3760000.0</td>\n",
       "    </tr>\n",
       "    <tr>\n",
       "      <th>1</th>\n",
       "      <td>El Carrizal, Mexico</td>\n",
       "      <td>2340000.0</td>\n",
       "      <td>-11200000.0</td>\n",
       "    </tr>\n",
       "    <tr>\n",
       "      <th>2</th>\n",
       "      <td>Linakeng, Thaba Tseka, Lesotho</td>\n",
       "      <td>-3450000.0</td>\n",
       "      <td>3220000.0</td>\n",
       "    </tr>\n",
       "    <tr>\n",
       "      <th>3</th>\n",
       "      <td>Villa Hermosa de Buenos Aires, Costa Rica</td>\n",
       "      <td>1190000.0</td>\n",
       "      <td>-9510000.0</td>\n",
       "    </tr>\n",
       "    <tr>\n",
       "      <th>4</th>\n",
       "      <td>Rike, Georgia</td>\n",
       "      <td>5120000.0</td>\n",
       "      <td>4990000.0</td>\n",
       "    </tr>\n",
       "  </tbody>\n",
       "</table>\n",
       "</div>"
      ],
      "text/plain": [
       "                               location_name        lat         lng\n",
       "0                             malomo, Malawi -1480000.0   3760000.0\n",
       "1                        El Carrizal, Mexico  2340000.0 -11200000.0\n",
       "2             Linakeng, Thaba Tseka, Lesotho -3450000.0   3220000.0\n",
       "3  Villa Hermosa de Buenos Aires, Costa Rica  1190000.0  -9510000.0\n",
       "4                              Rike, Georgia  5120000.0   4990000.0"
      ]
     },
     "execution_count": 3,
     "metadata": {},
     "output_type": "execute_result"
    }
   ],
   "source": [
    "# Chargement des données et affichage des 5 premières lignes\n",
    "df = pd.read_csv(\"113.6_locations.csv\",sep=';')\n",
    "df.head(5)"
   ]
  },
  {
   "cell_type": "markdown",
   "metadata": {},
   "source": [
    "\n",
    "\n",
    "    Il est souvent utile de pouvoir relier des ensembles de données avec leur contexte réel. On peut représenter des données géographiques comme n'importe quel autre type de données ,en visualisant la distribution de celles-ci par exemple, mais Bokeh fournit plusieurs méthodes spécialisées pour visualiser des données géographiques de façon intéressante :\n",
    "\n",
    "        La fonction gmap du sous-module bokeh.plotting permet de créer une figure Bokeh sur une carte Google Maps.\n",
    "\n",
    "        Le sous-module bokeh.tile_providers qui contient la fonction get_providerpermettant de récupérer des tuiles telles que 'CARTODBPOSITRON' permet de récupérer des données géographiques à partir de n'importe quel serveur de cartes, comme Google Maps, Stamen, MapQuest, OpenStreetMap, ESRI ou d'un serveur personnalisé.\n",
    "\n",
    "        Le format GeoJSON que l'on peut exploiter en important la classe GeoJSONDataSource du sous-module bokeh.models permet de lire des données au format GeoJSON, similaire à un objet de type ColumnDataSource, que l'on peut utiliser de la même façon qu'une figure et qui a donc les mêmes méthodes glyphs.\n",
    "\n",
    "    Pour plus d'informations concernant ces différentes méthodes de représentation de données géographiques, vous pouvez regarder ceci. Ici, nous allons seulement exploiter la tuile CARTODBPOSITRON.\n",
    "\n",
    "    Importer la fonction get_provider du sous-module bokeh.tile_providers.\n",
    "\n",
    "    Affecter à la variable tuile le résultat de l'appel de la fonction get_provider avec l'argument 'CARTODBPOSITRON'.\n",
    "\n",
    "    Créer une figure dont les paramètres x_range, y_range, x_axis_type et y_axis_type sont respectivement égaux à (-1000000, 7000000), (-7000000, 9000000), 'mercator' et 'mercator'.\n",
    "\n",
    "    Ajouter la tuile tuile à la figure grâce à sa méthode add_tile.\n",
    "\n"
   ]
  },
  {
   "cell_type": "code",
   "execution_count": 4,
   "metadata": {},
   "outputs": [
    {
     "data": {
      "text/html": [
       "\n",
       "\n",
       "\n",
       "\n",
       "\n",
       "\n",
       "  <div class=\"bk-root\" id=\"13badacc-d4b5-4f0e-bee4-2aa1856098ff\" data-root-id=\"1004\"></div>\n"
      ]
     },
     "metadata": {},
     "output_type": "display_data"
    },
    {
     "data": {
      "application/javascript": "(function(root) {\n  function embed_document(root) {\n    \n  var docs_json = {\"c3d497e5-1f72-41d8-b890-e09b6e569595\":{\"defs\":[],\"roots\":{\"references\":[{\"attributes\":{\"below\":[{\"id\":\"1013\"}],\"center\":[{\"id\":\"1020\"},{\"id\":\"1028\"}],\"left\":[{\"id\":\"1021\"}],\"renderers\":[{\"id\":\"1043\"}],\"title\":{\"id\":\"1045\"},\"toolbar\":{\"id\":\"1036\"},\"x_range\":{\"id\":\"1005\"},\"x_scale\":{\"id\":\"1009\"},\"y_range\":{\"id\":\"1007\"},\"y_scale\":{\"id\":\"1011\"}},\"id\":\"1004\",\"subtype\":\"Figure\",\"type\":\"Plot\"},{\"attributes\":{\"axis\":{\"id\":\"1021\"},\"dimension\":1,\"ticker\":null},\"id\":\"1028\",\"type\":\"Grid\"},{\"attributes\":{},\"id\":\"1032\",\"type\":\"SaveTool\"},{\"attributes\":{\"dimension\":\"lat\"},\"id\":\"1022\",\"type\":\"MercatorTicker\"},{\"attributes\":{},\"id\":\"1034\",\"type\":\"HelpTool\"},{\"attributes\":{\"dimension\":\"lon\"},\"id\":\"1016\",\"type\":\"MercatorTickFormatter\"},{\"attributes\":{\"end\":7000000,\"start\":-1000000},\"id\":\"1005\",\"type\":\"Range1d\"},{\"attributes\":{\"formatter\":{\"id\":\"1016\"},\"major_label_policy\":{\"id\":\"1051\"},\"ticker\":{\"id\":\"1014\"}},\"id\":\"1013\",\"type\":\"MercatorAxis\"},{\"attributes\":{\"dimension\":\"lon\"},\"id\":\"1014\",\"type\":\"MercatorTicker\"},{\"attributes\":{\"formatter\":{\"id\":\"1024\"},\"major_label_policy\":{\"id\":\"1048\"},\"ticker\":{\"id\":\"1022\"}},\"id\":\"1021\",\"type\":\"MercatorAxis\"},{\"attributes\":{\"active_multi\":null,\"tools\":[{\"id\":\"1029\"},{\"id\":\"1030\"},{\"id\":\"1031\"},{\"id\":\"1032\"},{\"id\":\"1033\"},{\"id\":\"1034\"}]},\"id\":\"1036\",\"type\":\"Toolbar\"},{\"attributes\":{},\"id\":\"1009\",\"type\":\"LinearScale\"},{\"attributes\":{\"axis\":{\"id\":\"1013\"},\"ticker\":null},\"id\":\"1020\",\"type\":\"Grid\"},{\"attributes\":{},\"id\":\"1011\",\"type\":\"LinearScale\"},{\"attributes\":{\"bottom_units\":\"screen\",\"fill_alpha\":0.5,\"fill_color\":\"lightgrey\",\"left_units\":\"screen\",\"level\":\"overlay\",\"line_alpha\":1.0,\"line_color\":\"black\",\"line_dash\":[4,4],\"line_width\":2,\"right_units\":\"screen\",\"syncable\":false,\"top_units\":\"screen\"},\"id\":\"1035\",\"type\":\"BoxAnnotation\"},{\"attributes\":{},\"id\":\"1045\",\"type\":\"Title\"},{\"attributes\":{\"dimension\":\"lat\"},\"id\":\"1024\",\"type\":\"MercatorTickFormatter\"},{\"attributes\":{},\"id\":\"1048\",\"type\":\"AllLabels\"},{\"attributes\":{\"attribution\":\"&copy; <a href=\\\"https://www.openstreetmap.org/copyright\\\">OpenStreetMap</a> contributors,&copy; <a href=\\\"https://cartodb.com/attributions\\\">CartoDB</a>\",\"url\":\"https://tiles.basemaps.cartocdn.com/light_all/{z}/{x}/{y}.png\"},\"id\":\"1003\",\"type\":\"WMTSTileSource\"},{\"attributes\":{},\"id\":\"1029\",\"type\":\"PanTool\"},{\"attributes\":{\"end\":9000000,\"start\":-7000000},\"id\":\"1007\",\"type\":\"Range1d\"},{\"attributes\":{},\"id\":\"1033\",\"type\":\"ResetTool\"},{\"attributes\":{},\"id\":\"1051\",\"type\":\"AllLabels\"},{\"attributes\":{\"tile_source\":{\"id\":\"1003\"}},\"id\":\"1043\",\"type\":\"TileRenderer\"},{\"attributes\":{},\"id\":\"1030\",\"type\":\"WheelZoomTool\"},{\"attributes\":{\"overlay\":{\"id\":\"1035\"}},\"id\":\"1031\",\"type\":\"BoxZoomTool\"}],\"root_ids\":[\"1004\"]},\"title\":\"Bokeh Application\",\"version\":\"2.3.2\"}};\n  var render_items = [{\"docid\":\"c3d497e5-1f72-41d8-b890-e09b6e569595\",\"root_ids\":[\"1004\"],\"roots\":{\"1004\":\"13badacc-d4b5-4f0e-bee4-2aa1856098ff\"}}];\n  root.Bokeh.embed.embed_items_notebook(docs_json, render_items);\n\n  }\n  if (root.Bokeh !== undefined) {\n    embed_document(root);\n  } else {\n    var attempts = 0;\n    var timer = setInterval(function(root) {\n      if (root.Bokeh !== undefined) {\n        clearInterval(timer);\n        embed_document(root);\n      } else {\n        attempts++;\n        if (attempts > 100) {\n          clearInterval(timer);\n          console.log(\"Bokeh: ERROR: Unable to run BokehJS code because BokehJS library is missing\");\n        }\n      }\n    }, 10, root)\n  }\n})(window);",
      "application/vnd.bokehjs_exec.v0+json": ""
     },
     "metadata": {
      "application/vnd.bokehjs_exec.v0+json": {
       "id": "1004"
      }
     },
     "output_type": "display_data"
    }
   ],
   "source": [
    "# Importation de la fonciton get_provider pour obtenir des tuiles\n",
    "\n",
    "from bokeh.tile_providers import get_provider\n",
    "\n",
    "# Création de la tuile CARTODBPOSITRON à partir de get_provider\n",
    "\n",
    "tuile = get_provider('CARTODBPOSITRON')\n",
    "\n",
    "# Instanciation d'une figure\n",
    "\n",
    "p = figure(x_range = (-1000000, 7000000), # étendue de l'axe des abscisses\n",
    "           y_range = (-7000000, 9000000), # étendue de l'axe des ordonnées\n",
    "           x_axis_type = 'mercator',      # Précision du type de l'axis, ici projection mercator qui sert à se repérer sur une \n",
    "                                          # carte plane de la Terre\n",
    "           y_axis_type = 'mercator')      # // \n",
    "\n",
    "# Ajout de la tuile à la figure\n",
    "\n",
    "p.add_tile(tuile)                   \n",
    "\n",
    "# Affichage de la figure\n",
    "\n",
    "show(p)"
   ]
  },
  {
   "cell_type": "markdown",
   "metadata": {},
   "source": [
    "\n",
    "\n",
    "    Nous avons instancié la figure sur laquelle nous allons pouvoir afficher les points de notre jeu de données. Ici, les coordonnées sont déjà au format Mercator, elles peuvent donc être directement affichées sur la figure.\n",
    "\n",
    "    Importer les classes ColumnDataSource, LabelSet du sous-module bokeh.models.\n",
    "\n",
    "    Instancier à partir de df un objet ColumnDataSource nommé source.\n",
    "\n",
    "    Créer une figure de mêmes paramètres que celle précédemment construite.\n",
    "\n",
    "    Y ajouter de la même façon la tuile 'CARTODBPOSITRON'.\n",
    "\n",
    "    Ajouter un nuage de points de source source d'abscisse 'lng', d'ordonnée 'lat', de couleur bleue et de taille 1010.\n",
    "\n",
    "    Ajouter un label à chaque point de texte 'location_name' et de décalage sur l'axe des abscisses et ordonnées égal à 55.\n",
    "\n"
   ]
  },
  {
   "cell_type": "code",
   "execution_count": 5,
   "metadata": {},
   "outputs": [
    {
     "data": {
      "text/html": [
       "\n",
       "\n",
       "\n",
       "\n",
       "\n",
       "\n",
       "  <div class=\"bk-root\" id=\"5585019c-a4c3-4c41-a8b1-143aa3b73641\" data-root-id=\"1101\"></div>\n"
      ]
     },
     "metadata": {},
     "output_type": "display_data"
    },
    {
     "data": {
      "application/javascript": "(function(root) {\n  function embed_document(root) {\n    \n  var docs_json = {\"d1a632a5-96f1-49d9-adb1-ef59722df9db\":{\"defs\":[],\"roots\":{\"references\":[{\"attributes\":{\"below\":[{\"id\":\"1110\"}],\"center\":[{\"id\":\"1117\"},{\"id\":\"1125\"},{\"id\":\"1147\"}],\"left\":[{\"id\":\"1118\"}],\"renderers\":[{\"id\":\"1140\"},{\"id\":\"1145\"}],\"title\":{\"id\":\"1158\"},\"toolbar\":{\"id\":\"1133\"},\"x_range\":{\"id\":\"1102\"},\"x_scale\":{\"id\":\"1106\"},\"y_range\":{\"id\":\"1104\"},\"y_scale\":{\"id\":\"1108\"}},\"id\":\"1101\",\"subtype\":\"Figure\",\"type\":\"Plot\"},{\"attributes\":{},\"id\":\"1108\",\"type\":\"LinearScale\"},{\"attributes\":{\"fill_color\":{\"value\":\"blue\"},\"line_color\":{\"value\":\"#1f77b4\"},\"size\":{\"value\":10},\"x\":{\"field\":\"lng\"},\"y\":{\"field\":\"lat\"}},\"id\":\"1143\",\"type\":\"Circle\"},{\"attributes\":{},\"id\":\"1131\",\"type\":\"HelpTool\"},{\"attributes\":{\"axis\":{\"id\":\"1110\"},\"ticker\":null},\"id\":\"1117\",\"type\":\"Grid\"},{\"attributes\":{\"fill_alpha\":{\"value\":0.1},\"fill_color\":{\"value\":\"blue\"},\"line_alpha\":{\"value\":0.1},\"line_color\":{\"value\":\"#1f77b4\"},\"size\":{\"value\":10},\"x\":{\"field\":\"lng\"},\"y\":{\"field\":\"lat\"}},\"id\":\"1144\",\"type\":\"Circle\"},{\"attributes\":{\"formatter\":{\"id\":\"1121\"},\"major_label_policy\":{\"id\":\"1161\"},\"ticker\":{\"id\":\"1119\"}},\"id\":\"1118\",\"type\":\"MercatorAxis\"},{\"attributes\":{},\"id\":\"1106\",\"type\":\"LinearScale\"},{\"attributes\":{\"dimension\":\"lon\"},\"id\":\"1113\",\"type\":\"MercatorTickFormatter\"},{\"attributes\":{\"formatter\":{\"id\":\"1113\"},\"major_label_policy\":{\"id\":\"1164\"},\"ticker\":{\"id\":\"1111\"}},\"id\":\"1110\",\"type\":\"MercatorAxis\"},{\"attributes\":{\"tile_source\":{\"id\":\"1100\"}},\"id\":\"1140\",\"type\":\"TileRenderer\"},{\"attributes\":{\"dimension\":\"lat\"},\"id\":\"1119\",\"type\":\"MercatorTicker\"},{\"attributes\":{\"data_source\":{\"id\":\"1099\"},\"glyph\":{\"id\":\"1143\"},\"hover_glyph\":null,\"muted_glyph\":null,\"nonselection_glyph\":{\"id\":\"1144\"},\"view\":{\"id\":\"1146\"}},\"id\":\"1145\",\"type\":\"GlyphRenderer\"},{\"attributes\":{\"source\":{\"id\":\"1099\"}},\"id\":\"1146\",\"type\":\"CDSView\"},{\"attributes\":{\"axis\":{\"id\":\"1118\"},\"dimension\":1,\"ticker\":null},\"id\":\"1125\",\"type\":\"Grid\"},{\"attributes\":{},\"id\":\"1161\",\"type\":\"AllLabels\"},{\"attributes\":{},\"id\":\"1166\",\"type\":\"UnionRenderers\"},{\"attributes\":{\"data\":{\"index\":[0,1,2,3,4,5,6,7,8,9,10,11,12,13,14,15],\"lat\":{\"__ndarray__\":\"AAAAAECVNsEAAAAAUNpBQQAAAABIUkrBAAAAAHAoMkEAAAAAAIhTQQAAAADArzxBAAAAAMBECcEAAAAAgKI5QQAAAACAVSHBAAAAALCOK0EAAAAAgMA0QQAAAAC4Y0tBAAAAANSaWEEAAAAAYDZOwQAAAACAhE5BAAAAABCvM0E=\",\"dtype\":\"float64\",\"order\":\"little\",\"shape\":[16]},\"lng\":{\"__ndarray__\":\"AAAAAMCvTEEAAAAAwFxlwQAAAAAQkUhBAAAAAI4jYsEAAAAADAlTQQAAAACg8GlBAAAAAHB7SUEAAAAAgqJiwQAAAAB4A2HBAAAAAEhSakEAAAAAwLsqwQAAAABYW19BAAAAALiBZkEAAAAAjAVewQAAAABgNk5BAAAAAORQZkE=\",\"dtype\":\"float64\",\"order\":\"little\",\"shape\":[16]},\"location_name\":[\"malomo, Malawi\",\"El Carrizal, Mexico\",\"Linakeng, Thaba Tseka, Lesotho\",\"Villa Hermosa de Buenos Aires, Costa Rica\",\"Rike, Georgia\",\"Villa Rey, Echague, Isabela, Philippines\",\"Shyorongi/Rurindo, Rwanda\",\"Tapikilares, Honduras\",\"Chulucanas, Peru\",\"Gabunon Tambulig ZDS, Philippines\",\"Dafara, Mali\",\"Allah Ditta, Pakistan\",\"Selenge, Mongolia\",\"Santiago, Chile\",\"Kfarshima, Lebanon\",\"Mean Chhey District, Cambodia\"]},\"selected\":{\"id\":\"1167\"},\"selection_policy\":{\"id\":\"1166\"}},\"id\":\"1099\",\"type\":\"ColumnDataSource\"},{\"attributes\":{\"active_multi\":null,\"tools\":[{\"id\":\"1126\"},{\"id\":\"1127\"},{\"id\":\"1128\"},{\"id\":\"1129\"},{\"id\":\"1130\"},{\"id\":\"1131\"}]},\"id\":\"1133\",\"type\":\"Toolbar\"},{\"attributes\":{\"source\":{\"id\":\"1099\"},\"text\":{\"field\":\"location_name\"},\"x\":{\"field\":\"lng\"},\"x_offset\":{\"value\":5},\"y\":{\"field\":\"lat\"},\"y_offset\":{\"value\":5}},\"id\":\"1147\",\"type\":\"LabelSet\"},{\"attributes\":{\"dimension\":\"lat\"},\"id\":\"1121\",\"type\":\"MercatorTickFormatter\"},{\"attributes\":{},\"id\":\"1167\",\"type\":\"Selection\"},{\"attributes\":{\"bottom_units\":\"screen\",\"fill_alpha\":0.5,\"fill_color\":\"lightgrey\",\"left_units\":\"screen\",\"level\":\"overlay\",\"line_alpha\":1.0,\"line_color\":\"black\",\"line_dash\":[4,4],\"line_width\":2,\"right_units\":\"screen\",\"syncable\":false,\"top_units\":\"screen\"},\"id\":\"1132\",\"type\":\"BoxAnnotation\"},{\"attributes\":{\"end\":7000000,\"start\":-1000000},\"id\":\"1102\",\"type\":\"Range1d\"},{\"attributes\":{},\"id\":\"1129\",\"type\":\"SaveTool\"},{\"attributes\":{\"attribution\":\"&copy; <a href=\\\"https://www.openstreetmap.org/copyright\\\">OpenStreetMap</a> contributors,&copy; <a href=\\\"https://cartodb.com/attributions\\\">CartoDB</a>\",\"url\":\"https://tiles.basemaps.cartocdn.com/light_all/{z}/{x}/{y}.png\"},\"id\":\"1100\",\"type\":\"WMTSTileSource\"},{\"attributes\":{\"end\":9000000,\"start\":-7000000},\"id\":\"1104\",\"type\":\"Range1d\"},{\"attributes\":{},\"id\":\"1126\",\"type\":\"PanTool\"},{\"attributes\":{},\"id\":\"1158\",\"type\":\"Title\"},{\"attributes\":{},\"id\":\"1130\",\"type\":\"ResetTool\"},{\"attributes\":{},\"id\":\"1164\",\"type\":\"AllLabels\"},{\"attributes\":{},\"id\":\"1127\",\"type\":\"WheelZoomTool\"},{\"attributes\":{\"overlay\":{\"id\":\"1132\"}},\"id\":\"1128\",\"type\":\"BoxZoomTool\"},{\"attributes\":{\"dimension\":\"lon\"},\"id\":\"1111\",\"type\":\"MercatorTicker\"}],\"root_ids\":[\"1101\"]},\"title\":\"Bokeh Application\",\"version\":\"2.3.2\"}};\n  var render_items = [{\"docid\":\"d1a632a5-96f1-49d9-adb1-ef59722df9db\",\"root_ids\":[\"1101\"],\"roots\":{\"1101\":\"5585019c-a4c3-4c41-a8b1-143aa3b73641\"}}];\n  root.Bokeh.embed.embed_items_notebook(docs_json, render_items);\n\n  }\n  if (root.Bokeh !== undefined) {\n    embed_document(root);\n  } else {\n    var attempts = 0;\n    var timer = setInterval(function(root) {\n      if (root.Bokeh !== undefined) {\n        clearInterval(timer);\n        embed_document(root);\n      } else {\n        attempts++;\n        if (attempts > 100) {\n          clearInterval(timer);\n          console.log(\"Bokeh: ERROR: Unable to run BokehJS code because BokehJS library is missing\");\n        }\n      }\n    }, 10, root)\n  }\n})(window);",
      "application/vnd.bokehjs_exec.v0+json": ""
     },
     "metadata": {
      "application/vnd.bokehjs_exec.v0+json": {
       "id": "1101"
      }
     },
     "output_type": "display_data"
    }
   ],
   "source": [
    "from bokeh.tile_providers import get_provider\n",
    "from bokeh.models import ColumnDataSource, LabelSet\n",
    "\n",
    "source = ColumnDataSource(df)\n",
    "\n",
    "# Création de la tuile CARTODBPOSITRON à partir de get_provider\n",
    "\n",
    "tuile = get_provider('CARTODBPOSITRON')\n",
    "\n",
    "# Instanciation d'une figure et ajout de tuile\n",
    "\n",
    "p = figure(x_range = (-1000000, 7000000), # étendue de l'axe des abscisses\n",
    "           y_range = (-7000000, 9000000), # étendue de l'axe des ordonnées\n",
    "           x_axis_type = 'mercator',      # type de l'axe, ici projection mercator qui sert à se repérer sur une \n",
    "                                          # carte plane de la Terre\n",
    "           y_axis_type = 'mercator')      # // \n",
    "\n",
    "# Ajout de la tuile à la figure\n",
    "\n",
    "p.add_tile(tuile)                     \n",
    "\n",
    "# Instanciation d'un nuage de points en forme de cercle\n",
    "\n",
    "p.circle(x = 'lng',           # abscisses\n",
    "         y = 'lat',           # ordonnées\n",
    "         fill_color = 'blue', # couleur de remplissage des cercles\n",
    "         size = 10,           # taille des cercles\n",
    "         source = source)     # source des données\n",
    "\n",
    "# Instanciation des labels\n",
    "\n",
    "labels = LabelSet(x = 'lng',              # abscisses\n",
    "                  y = 'lat',              # ordonnées\n",
    "                  text = 'location_name', # texte à afficher\n",
    "                  x_offset = 5,           # décalage sur l'axe des abscisses du label\n",
    "                  y_offset = 5,           # décalage sur l'axe des ordonnées du label\n",
    "                  source = source)        # source des données\n",
    "\n",
    "# Ajout des labels à la figure p\n",
    "\n",
    "p.add_layout(labels)              \n",
    "\n",
    "# Affichage de la figure\n",
    "\n",
    "show(p)"
   ]
  }
 ],
 "metadata": {
  "interpreter": {
   "hash": "9e4711cd1fb22363258f0d16c969515f4384b1659573b93590343c886ca3160d"
  },
  "kernelspec": {
   "display_name": "Python 3.7.10 64-bit ('py37': conda)",
   "name": "python3"
  },
  "language_info": {
   "codemirror_mode": {
    "name": "ipython",
    "version": 3
   },
   "file_extension": ".py",
   "mimetype": "text/x-python",
   "name": "python",
   "nbconvert_exporter": "python",
   "pygments_lexer": "ipython3",
   "version": "3.7.10"
  },
  "orig_nbformat": 4
 },
 "nbformat": 4,
 "nbformat_minor": 2
}
